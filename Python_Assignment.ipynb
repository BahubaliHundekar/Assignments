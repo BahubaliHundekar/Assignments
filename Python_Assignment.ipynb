{
 "cells": [
  {
   "cell_type": "code",
   "execution_count": null,
   "metadata": {},
   "outputs": [],
   "source": [
    "import random\n",
    "\n",
    "gameCount =  int(input('How many games would you like to play'))\n",
    "gameNumber = 1\n",
    "\n",
    "\n",
    "while gameNumber <= gameCount:\n",
    "    print(\"You are playing game number:\", gameNumber)\n",
    "    number = random.randint(1,25)\n",
    "    print('Well, I am thinking a number between 1 to 25')\n",
    "    guessTaken = 0\n",
    "    guessTaken = int(guessTaken)\n",
    "    \n",
    "    while guessTaken < 5:\n",
    "        guess = int(input('Take a guess'))\n",
    "        \n",
    "        guessTaken = guessTaken+1\n",
    "        guessTaken = int(guessTaken)\n",
    "        \n",
    "        if guess < number :\n",
    "            print ('Number is too low')\n",
    "            \n",
    "        if guess > number :\n",
    "            print('Number is too high')\n",
    "            \n",
    "        if guess == number:\n",
    "            break\n",
    "            \n",
    "    \n",
    "    \n",
    "    gameNumber = gameNumber+1\n",
    "    \n",
    "    if guess == number:\n",
    "        guessTaken = str(guessTaken)\n",
    "        print('Good job, You guessed the number in  ' +guessTaken+'   guesses')\n",
    "        \n",
    "    if guess != number :\n",
    "        number = str(number)\n",
    "        print('Nope,The number I was thinking of was  '+number)\n"
   ]
  },
  {
   "cell_type": "code",
   "execution_count": null,
   "metadata": {},
   "outputs": [],
   "source": []
  }
 ],
 "metadata": {
  "kernelspec": {
   "display_name": "Python 3",
   "language": "python",
   "name": "python3"
  },
  "language_info": {
   "codemirror_mode": {
    "name": "ipython",
    "version": 3
   },
   "file_extension": ".py",
   "mimetype": "text/x-python",
   "name": "python",
   "nbconvert_exporter": "python",
   "pygments_lexer": "ipython3",
   "version": "3.7.3"
  }
 },
 "nbformat": 4,
 "nbformat_minor": 2
}
